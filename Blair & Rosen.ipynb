{
  "cells": [
    {
      "cell_type": "markdown",
      "source": [
        "## Blair & Rosen, Inc.\n"
      ],
      "metadata": {
        "id": "StdjZOILroyz"
      }
    },
    {
      "cell_type": "markdown",
      "metadata": {
        "id": "7o0PxXyYKwc5"
      },
      "source": [
        "Install amplpy, pandas and other packages."
      ]
    },
    {
      "cell_type": "code",
      "execution_count": 10,
      "metadata": {
        "id": "G004pZj1XA_0"
      },
      "outputs": [],
      "source": [
        "!pip install -q amplpy ampltools pandas"
      ]
    },
    {
      "cell_type": "markdown",
      "source": [
        "Setup AMPL and select solvers."
      ],
      "metadata": {
        "id": "G42yc42srDoN"
      }
    },
    {
      "cell_type": "code",
      "execution_count": 11,
      "metadata": {
        "id": "bY6nMq3DXIQ9",
        "colab": {
          "base_uri": "https://localhost:8080/"
        },
        "outputId": "26eb4306-be33-49ee-8676-41f2784a89da"
      },
      "outputs": [
        {
          "output_type": "stream",
          "name": "stdout",
          "text": [
            "Using default Community Edition License for Colab. Get yours at: https://ampl.com/ce\n",
            "Licensed to AMPL Community Edition License for the AMPL Model Colaboratory (https://colab.ampl.com).\n"
          ]
        }
      ],
      "source": [
        "MODULES=['ampl', 'coin', 'gurobi']\n",
        "from amplpy import tools, AMPL, register_magics, Environment, DataFrame\n",
        "from ampltools import cloud_platform_name, ampl_notebook\n",
        "\n",
        "if cloud_platform_name() is None:\n",
        "    ampl = AMPL() # Use local installation of AMPL\n",
        "else:\n",
        "    ampl = ampl_notebook(modules=MODULES) # Install AMPL and use it\n",
        "register_magics(ampl_object=ampl) # Evaluate %%ampl_eval cells with ampl.eval()\n"
      ]
    },
    {
      "cell_type": "markdown",
      "source": [
        "Setup Google Drive access."
      ],
      "metadata": {
        "id": "8Hlei2-d7ZkX"
      }
    },
    {
      "cell_type": "code",
      "source": [
        "from google.colab import drive\n",
        "drive.mount('/content/drive')"
      ],
      "metadata": {
        "id": "hrcCEtmr7cov",
        "outputId": "1658959e-e8e8-4b3d-8d6b-9cef5871ca6b",
        "colab": {
          "base_uri": "https://localhost:8080/"
        }
      },
      "execution_count": 12,
      "outputs": [
        {
          "output_type": "stream",
          "name": "stdout",
          "text": [
            "Drive already mounted at /content/drive; to attempt to forcibly remount, call drive.mount(\"/content/drive\", force_remount=True).\n"
          ]
        }
      ]
    },
    {
      "cell_type": "markdown",
      "source": [
        "Read and define data."
      ],
      "metadata": {
        "id": "Cz7x5HAtdnxN"
      }
    },
    {
      "cell_type": "code",
      "source": [
        "import pandas as pd\n",
        "\n",
        "I = ['internet_fund','blue_chip']\n",
        "A = ['Conservative','Moderate','Aggressive']\n",
        "rate_of_return = {'internet_fund': 0.12, 'blue_chip': 0.09}\n",
        "risk_rating = {'internet_fund': 0.006, 'blue_chip': 0.004}\n",
        "risk_appetite = {'Conservative':160 ,'Moderate':240 ,'Aggressive': 320}\n",
        "budget = 50000\n",
        "max_investment_in_company = {'internet_fund':35000,'blue_chip': budget}"
      ],
      "metadata": {
        "id": "gOWGyl1YxX9F"
      },
      "execution_count": 13,
      "outputs": []
    },
    {
      "cell_type": "markdown",
      "metadata": {
        "id": "X3bxNt92KSGe"
      },
      "source": [
        "Define model for conservative type"
      ]
    },
    {
      "cell_type": "code",
      "source": [
        "ampl.eval ('''\n",
        "\n",
        "reset;\n",
        "set I;\n",
        "set A;\n",
        "\n",
        "param rate_of_return {i in I} ;\n",
        "param risk_rating {i in I} ;\n",
        "param risk_appetite {i in A} ;\n",
        "param budget ;\n",
        "param max_investment_in_company {i in I} ;\n",
        "\n",
        "var x {i in I} >= 0;\n",
        "\n",
        "maximize profit_objective: sum {i in I} ( x[i] * rate_of_return[i]) ;\n",
        "\n",
        "subject to \n",
        "  risk_factor_conservative_constraint  : sum {i in I} x[i] * risk_rating[i] <= 160 ;\n",
        "  total_investment_constraint : sum {i in I} x[i] <= budget ;\n",
        "  internet_fund_constraint {i in I}: x[i] <= max_investment_in_company[i];\n",
        "''')"
      ],
      "metadata": {
        "id": "esT-2CEaGhDw"
      },
      "execution_count": 14,
      "outputs": []
    },
    {
      "cell_type": "markdown",
      "source": [
        "Provide data to the model."
      ],
      "metadata": {
        "id": "RqFoAqQ7joRa"
      }
    },
    {
      "cell_type": "code",
      "source": [
        "ampl.set['I'] = I\n",
        "ampl.set['A'] = A\n",
        "\n",
        "ampl.param['rate_of_return'] = rate_of_return\n",
        "ampl.param['risk_rating'] = risk_rating\n",
        "ampl.param['risk_appetite'] = risk_appetite\n",
        "ampl.param['budget'] =  budget\n",
        "ampl.param['max_investment_in_company'] = max_investment_in_company\n"
      ],
      "metadata": {
        "id": "JIQOq8TzCeZD"
      },
      "execution_count": 15,
      "outputs": []
    },
    {
      "cell_type": "markdown",
      "source": [
        "Display problem formulation. "
      ],
      "metadata": {
        "id": "V_j5u7b8BkNk"
      }
    },
    {
      "cell_type": "code",
      "source": [
        "ampl.eval('''expand;''')"
      ],
      "metadata": {
        "id": "2PJurB0O7K5l",
        "colab": {
          "base_uri": "https://localhost:8080/"
        },
        "outputId": "89308281-dd0e-4cbe-d9f7-b4be82277dbb"
      },
      "execution_count": 16,
      "outputs": [
        {
          "output_type": "stream",
          "name": "stdout",
          "text": [
            "maximize profit_objective:\n",
            "\t0.12*x['internet_fund'] + 0.09*x['blue_chip'];\n",
            "\n",
            "subject to risk_factor_conservative_constraint\n",
            "\t:\n",
            "\t0.006*x['internet_fund'] + 0.004*x['blue_chip'] <= 160;\n",
            "\n",
            "subject to total_investment_constraint:\n",
            "\tx['internet_fund'] + x['blue_chip'] <= 50000;\n",
            "\n",
            "subject to internet_fund_constraint['internet_fund']:\n",
            "\tx['internet_fund'] <= 35000;\n",
            "\n",
            "subject to internet_fund_constraint['blue_chip']:\n",
            "\tx['blue_chip'] <= 50000;\n",
            "\n"
          ]
        }
      ]
    },
    {
      "cell_type": "markdown",
      "source": [
        "Set solver and solve."
      ],
      "metadata": {
        "id": "Fx_sqpPYBevu"
      }
    },
    {
      "cell_type": "code",
      "source": [
        "ampl.setOption('solver', 'cbc')\n",
        "ampl.solve()"
      ],
      "metadata": {
        "id": "xlqpM_cq6HT5",
        "colab": {
          "base_uri": "https://localhost:8080/"
        },
        "outputId": "bff06f4f-a6a8-4c67-a07b-3e199f097c3f"
      },
      "execution_count": 17,
      "outputs": [
        {
          "output_type": "stream",
          "name": "stdout",
          "text": [
            "cbc 2.10.7: \b\b\b\b\b\b\b\b\b\b\b\bcbc 2.10.7: optimal solution; objective 3600\n",
            "0 simplex iterations\n"
          ]
        }
      ]
    },
    {
      "cell_type": "markdown",
      "source": [
        "Print solution and results."
      ],
      "metadata": {
        "id": "OMMsJvISBs2g"
      }
    },
    {
      "cell_type": "code",
      "source": [
        "# Print results\n",
        "obj = ampl.getObjective('profit_objective')\n",
        "print(\"\\n\")\n",
        "print(\"Total profit is: \", obj.get().value(), \"\\n\")\n",
        "print(\"Return_on_investment:\")\n",
        "ampl.setOption('display_round', 0);\n",
        "ampl.display('x');\n"
      ],
      "metadata": {
        "colab": {
          "base_uri": "https://localhost:8080/"
        },
        "id": "eHFUWwg0f8O2",
        "outputId": "c3310da9-4b26-4868-ba93-fa2a60543d38"
      },
      "execution_count": 18,
      "outputs": [
        {
          "output_type": "stream",
          "name": "stdout",
          "text": [
            "\n",
            "\n",
            "Total profit is:  3600.0 \n",
            "\n",
            "Return_on_investment:\n",
            "x [*] :=\n",
            "    blue_chip  40000\n",
            "internet_fund      0\n",
            ";\n",
            "\n"
          ]
        }
      ]
    },
    {
      "cell_type": "markdown",
      "source": [
        "Define Model for moderate type"
      ],
      "metadata": {
        "id": "wwAL2uQKhneS"
      }
    },
    {
      "cell_type": "code",
      "source": [
        "ampl.eval ('''\n",
        "\n",
        "reset;\n",
        "set I;\n",
        "set A;\n",
        "\n",
        "param rate_of_return {i in I} ;\n",
        "param risk_rating {i in I} ;\n",
        "param risk_appetite {i in A} ;\n",
        "param budget ;\n",
        "param max_investment_in_company {i in I} ;\n",
        "\n",
        "var x {i in I} >= 0;\n",
        "\n",
        "maximize profit_objective: sum {i in I} ( x[i] * rate_of_return[i]) ;\n",
        "\n",
        "subject to \n",
        "  risk_factor_moderate_constraint : sum {i in I} x[i] * risk_rating[i] <= 240 ;\n",
        "  total_investment_constraint : sum {i in I} x[i] <= budget ;\n",
        "  internet_fund_constraint {i in I}: x[i] <= max_investment_in_company[i];\n",
        "''')"
      ],
      "metadata": {
        "id": "Az_MNNHwf8xT"
      },
      "execution_count": 19,
      "outputs": []
    },
    {
      "cell_type": "markdown",
      "source": [
        "Provide data to the model."
      ],
      "metadata": {
        "id": "huprOzGljWDY"
      }
    },
    {
      "cell_type": "code",
      "source": [
        "ampl.set['I'] = I\n",
        "ampl.set['A'] = A\n",
        "\n",
        "ampl.param['rate_of_return'] = rate_of_return\n",
        "ampl.param['risk_rating'] = risk_rating\n",
        "ampl.param['risk_appetite'] = risk_appetite\n",
        "ampl.param['budget'] =  budget\n",
        "ampl.param['max_investment_in_company'] = max_investment_in_company"
      ],
      "metadata": {
        "id": "ubO6Mc1GiJ3M"
      },
      "execution_count": 20,
      "outputs": []
    },
    {
      "cell_type": "markdown",
      "source": [
        "Display problem formulation."
      ],
      "metadata": {
        "id": "ytPhRnTnjaA9"
      }
    },
    {
      "cell_type": "code",
      "source": [
        "ampl.eval('''expand;''')"
      ],
      "metadata": {
        "colab": {
          "base_uri": "https://localhost:8080/"
        },
        "id": "eZTqnfXSiLQy",
        "outputId": "52adfffa-1b5d-4bf7-fa41-999686a18a01"
      },
      "execution_count": 21,
      "outputs": [
        {
          "output_type": "stream",
          "name": "stdout",
          "text": [
            "maximize profit_objective:\n",
            "\t0.12*x['internet_fund'] + 0.09*x['blue_chip'];\n",
            "\n",
            "subject to risk_factor_moderate_constraint:\n",
            "\t0.006*x['internet_fund'] + 0.004*x['blue_chip'] <= 240;\n",
            "\n",
            "subject to total_investment_constraint:\n",
            "\tx['internet_fund'] + x['blue_chip'] <= 50000;\n",
            "\n",
            "subject to internet_fund_constraint['internet_fund']:\n",
            "\tx['internet_fund'] <= 35000;\n",
            "\n",
            "subject to internet_fund_constraint['blue_chip']:\n",
            "\tx['blue_chip'] <= 50000;\n",
            "\n"
          ]
        }
      ]
    },
    {
      "cell_type": "markdown",
      "source": [
        "Set solver and solve."
      ],
      "metadata": {
        "id": "VtAhzXj0jbM9"
      }
    },
    {
      "cell_type": "code",
      "source": [
        "ampl.setOption('solver', 'cbc')\n",
        "ampl.solve()"
      ],
      "metadata": {
        "colab": {
          "base_uri": "https://localhost:8080/"
        },
        "id": "r2r2j_nqiO9Z",
        "outputId": "2b0c5729-329b-4c22-ff2c-9d6945ee9b42"
      },
      "execution_count": 22,
      "outputs": [
        {
          "output_type": "stream",
          "name": "stdout",
          "text": [
            "cbc 2.10.7: \b\b\b\b\b\b\b\b\b\b\b\bcbc 2.10.7: optimal solution; objective 5100\n",
            "0 simplex iterations\n"
          ]
        }
      ]
    },
    {
      "cell_type": "markdown",
      "source": [
        "Print solution and results."
      ],
      "metadata": {
        "id": "jTLwoRb0jilb"
      }
    },
    {
      "cell_type": "code",
      "source": [
        "# Print results\n",
        "obj = ampl.getObjective('profit_objective')\n",
        "print(\"\\n\")\n",
        "print(\"Total profit is: \", obj.get().value(), \"\\n\")\n",
        "print(\"Return_on_investment:\")\n",
        "ampl.setOption('display_round', 0);\n",
        "ampl.display('x');"
      ],
      "metadata": {
        "colab": {
          "base_uri": "https://localhost:8080/"
        },
        "id": "0TD4XBZ2iSFc",
        "outputId": "4495dfa4-8d77-4596-b638-a3f8a8b7d473"
      },
      "execution_count": 23,
      "outputs": [
        {
          "output_type": "stream",
          "name": "stdout",
          "text": [
            "\n",
            "\n",
            "Total profit is:  5100.0 \n",
            "\n",
            "Return_on_investment:\n",
            "x [*] :=\n",
            "    blue_chip  30000\n",
            "internet_fund  20000\n",
            ";\n",
            "\n"
          ]
        }
      ]
    },
    {
      "cell_type": "markdown",
      "source": [
        "Define model for aggressive type\n",
        "\n"
      ],
      "metadata": {
        "id": "Wlz8JkIPhs30"
      }
    },
    {
      "cell_type": "code",
      "source": [
        "ampl.eval ('''\n",
        "\n",
        "reset;\n",
        "set I;\n",
        "set A;\n",
        "\n",
        "param rate_of_return {i in I} ;\n",
        "param risk_rating {i in I} ;\n",
        "param risk_appetite {i in A} ;\n",
        "param budget ;\n",
        "param max_investment_in_company {i in I} ;\n",
        "\n",
        "var x {i in I} >= 0;\n",
        "\n",
        "maximize profit_objective: sum {i in I} ( x[i] * rate_of_return[i]) ;\n",
        "\n",
        "subject to \n",
        "  risk_factor_aggressive_constraint : sum {i in I} x[i] * risk_rating[i] <= 320 ;\n",
        "  total_investment_constraint : sum {i in I} x[i] <= budget ;\n",
        "  internet_fund_constraint {i in I}: x[i] <= max_investment_in_company[i];\n",
        "''')"
      ],
      "metadata": {
        "id": "VnK_v8uNhP7d"
      },
      "execution_count": 24,
      "outputs": []
    },
    {
      "cell_type": "markdown",
      "source": [
        "Provide data to the model"
      ],
      "metadata": {
        "id": "dvPT9TWLjGLm"
      }
    },
    {
      "cell_type": "code",
      "source": [
        "ampl.set['I'] = I\n",
        "ampl.set['A'] = A\n",
        "\n",
        "ampl.param['rate_of_return'] = rate_of_return\n",
        "ampl.param['risk_rating'] = risk_rating\n",
        "ampl.param['risk_appetite'] = risk_appetite\n",
        "ampl.param['budget'] =  budget\n",
        "ampl.param['max_investment_in_company'] = max_investment_in_company"
      ],
      "metadata": {
        "id": "a1fzUGFwifwO"
      },
      "execution_count": 25,
      "outputs": []
    },
    {
      "cell_type": "markdown",
      "source": [
        "Display problem formulation."
      ],
      "metadata": {
        "id": "_0fMVCIyjtL1"
      }
    },
    {
      "cell_type": "code",
      "source": [
        "ampl.eval('''expand;''')"
      ],
      "metadata": {
        "colab": {
          "base_uri": "https://localhost:8080/"
        },
        "id": "zY3BoWmUigkT",
        "outputId": "22743dfe-febd-4b53-cc0a-f9cacd2176ae"
      },
      "execution_count": 26,
      "outputs": [
        {
          "output_type": "stream",
          "name": "stdout",
          "text": [
            "maximize profit_objective:\n",
            "\t0.12*x['internet_fund'] + 0.09*x['blue_chip'];\n",
            "\n",
            "subject to risk_factor_aggressive_constraint:\n",
            "\t0.006*x['internet_fund'] + 0.004*x['blue_chip'] <= 320;\n",
            "\n",
            "subject to total_investment_constraint:\n",
            "\tx['internet_fund'] + x['blue_chip'] <= 50000;\n",
            "\n",
            "subject to internet_fund_constraint['internet_fund']:\n",
            "\tx['internet_fund'] <= 35000;\n",
            "\n",
            "subject to internet_fund_constraint['blue_chip']:\n",
            "\tx['blue_chip'] <= 50000;\n",
            "\n"
          ]
        }
      ]
    },
    {
      "cell_type": "markdown",
      "source": [
        "Set solver and solve."
      ],
      "metadata": {
        "id": "D8JPt8Jkjux-"
      }
    },
    {
      "cell_type": "code",
      "source": [
        "ampl.setOption('solver', 'cbc')\n",
        "ampl.solve()"
      ],
      "metadata": {
        "colab": {
          "base_uri": "https://localhost:8080/"
        },
        "id": "1cBRquu7ig9m",
        "outputId": "e4cae2fa-6715-43ae-d24c-87c1650d649d"
      },
      "execution_count": 27,
      "outputs": [
        {
          "output_type": "stream",
          "name": "stdout",
          "text": [
            "cbc 2.10.7: \b\b\b\b\b\b\b\b\b\b\b\bcbc 2.10.7: optimal solution; objective 5550\n",
            "0 simplex iterations\n"
          ]
        }
      ]
    },
    {
      "cell_type": "markdown",
      "source": [
        "Print solution and results."
      ],
      "metadata": {
        "id": "bVFdeydljydE"
      }
    },
    {
      "cell_type": "code",
      "source": [
        "# Print results\n",
        "obj = ampl.getObjective('profit_objective')\n",
        "print(\"\\n\")\n",
        "print(\"Total profit is: \", obj.get().value(), \"\\n\")\n",
        "print(\"Return_on_investment:\")\n",
        "ampl.setOption('display_round', 0);\n",
        "ampl.display('x');"
      ],
      "metadata": {
        "colab": {
          "base_uri": "https://localhost:8080/"
        },
        "id": "IR5VYZvOilsw",
        "outputId": "9f6adf10-73f8-498c-aad4-d57509bc213c"
      },
      "execution_count": 28,
      "outputs": [
        {
          "output_type": "stream",
          "name": "stdout",
          "text": [
            "\n",
            "\n",
            "Total profit is:  5550.0 \n",
            "\n",
            "Return_on_investment:\n",
            "x [*] :=\n",
            "    blue_chip  15000\n",
            "internet_fund  35000\n",
            ";\n",
            "\n"
          ]
        }
      ]
    }
  ],
  "metadata": {
    "colab": {
      "provenance": []
    },
    "kernelspec": {
      "display_name": "Python 3 (ipykernel)",
      "language": "python",
      "name": "python3"
    },
    "language_info": {
      "codemirror_mode": {
        "name": "ipython",
        "version": 3
      },
      "file_extension": ".py",
      "mimetype": "text/x-python",
      "name": "python",
      "nbconvert_exporter": "python",
      "pygments_lexer": "ipython3",
      "version": "3.9.13"
    }
  },
  "nbformat": 4,
  "nbformat_minor": 0
}